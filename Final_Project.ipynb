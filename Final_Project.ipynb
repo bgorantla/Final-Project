{
 "cells": [
  {
   "cell_type": "markdown",
   "id": "c67f1de3",
   "metadata": {},
   "source": [
    "# USING DATA TO PREDICT HUMAN LONGEVITY"
   ]
  },
  {
   "cell_type": "markdown",
   "id": "59e59564",
   "metadata": {},
   "source": [
    "**Goal:** The goal of this model is to use data to train models that can predict the longevity of an individual based on his/her characteristics. Models that will be trained: KNN, SVM, Decision Tree and Logistic Regression.  \n",
    "**Data Problem:** The data problem is to use the data to train multiple machine learning models to predict the longevity of a region of people based on their attributes/habits.  \n",
    "**Expected Results:** The expected results are trained models that can predict human longevity.  \n",
    "**Data:** The data is sourced from WHO and is available to view on Kaggle: https://www.kaggle.com/datasets/kumarajarshi/life-expectancy-who."
   ]
  },
  {
   "cell_type": "markdown",
   "id": "c2360f27",
   "metadata": {},
   "source": [
    "# DATA CLEANING AND PREPROCESSING"
   ]
  },
  {
   "cell_type": "code",
   "execution_count": 106,
   "id": "910d2dff",
   "metadata": {},
   "outputs": [],
   "source": [
    "import pandas as pd\n",
    "import matplotlib.pyplot as plt\n",
    "import seaborn as sns\n",
    "from sklearn.model_selection import GridSearchCV, RandomizedSearchCV, train_test_split\n",
    "from sklearn.neighbors import KNeighborsClassifier\n",
    "from sklearn.metrics import accuracy_score\n",
    "from sklearn.linear_model import LogisticRegression\n",
    "from sklearn.tree import DecisionTreeClassifier\n",
    "from sklearn.svm import SVC\n",
    "import numpy as np\n",
    "import warnings\n",
    "from sklearn.exceptions import ConvergenceWarning\n",
    "warnings.filterwarnings(\"ignore\", category=FutureWarning, module=\"sklearn.neighbors\")\n",
    "warnings.filterwarnings(\"ignore\", category=ConvergenceWarning)"
   ]
  },
  {
   "cell_type": "code",
   "execution_count": 62,
   "id": "d50ec8ea",
   "metadata": {},
   "outputs": [],
   "source": [
    "life_data = pd.read_csv(\"Life Expectancy Data.csv\")"
   ]
  },
  {
   "cell_type": "code",
   "execution_count": 63,
   "id": "0c6524b3",
   "metadata": {},
   "outputs": [
    {
     "data": {
      "text/html": [
       "<div>\n",
       "<style scoped>\n",
       "    .dataframe tbody tr th:only-of-type {\n",
       "        vertical-align: middle;\n",
       "    }\n",
       "\n",
       "    .dataframe tbody tr th {\n",
       "        vertical-align: top;\n",
       "    }\n",
       "\n",
       "    .dataframe thead th {\n",
       "        text-align: right;\n",
       "    }\n",
       "</style>\n",
       "<table border=\"1\" class=\"dataframe\">\n",
       "  <thead>\n",
       "    <tr style=\"text-align: right;\">\n",
       "      <th></th>\n",
       "      <th>Country</th>\n",
       "      <th>Year</th>\n",
       "      <th>Status</th>\n",
       "      <th>Life expectancy</th>\n",
       "      <th>Adult Mortality</th>\n",
       "      <th>infant deaths</th>\n",
       "      <th>Alcohol</th>\n",
       "      <th>percentage expenditure</th>\n",
       "      <th>Hepatitis B</th>\n",
       "      <th>Measles</th>\n",
       "      <th>...</th>\n",
       "      <th>Polio</th>\n",
       "      <th>Total expenditure</th>\n",
       "      <th>Diphtheria</th>\n",
       "      <th>HIV/AIDS</th>\n",
       "      <th>GDP</th>\n",
       "      <th>Population</th>\n",
       "      <th>thinness  1-19 years</th>\n",
       "      <th>thinness 5-9 years</th>\n",
       "      <th>Income composition of resources</th>\n",
       "      <th>Schooling</th>\n",
       "    </tr>\n",
       "  </thead>\n",
       "  <tbody>\n",
       "    <tr>\n",
       "      <th>0</th>\n",
       "      <td>Afghanistan</td>\n",
       "      <td>2015</td>\n",
       "      <td>Developing</td>\n",
       "      <td>65.0</td>\n",
       "      <td>263.0</td>\n",
       "      <td>62</td>\n",
       "      <td>0.01</td>\n",
       "      <td>71.279624</td>\n",
       "      <td>65.0</td>\n",
       "      <td>1154</td>\n",
       "      <td>...</td>\n",
       "      <td>6.0</td>\n",
       "      <td>8.16</td>\n",
       "      <td>65.0</td>\n",
       "      <td>0.1</td>\n",
       "      <td>584.259210</td>\n",
       "      <td>33736494.0</td>\n",
       "      <td>17.2</td>\n",
       "      <td>17.3</td>\n",
       "      <td>0.479</td>\n",
       "      <td>10.1</td>\n",
       "    </tr>\n",
       "    <tr>\n",
       "      <th>1</th>\n",
       "      <td>Afghanistan</td>\n",
       "      <td>2014</td>\n",
       "      <td>Developing</td>\n",
       "      <td>59.9</td>\n",
       "      <td>271.0</td>\n",
       "      <td>64</td>\n",
       "      <td>0.01</td>\n",
       "      <td>73.523582</td>\n",
       "      <td>62.0</td>\n",
       "      <td>492</td>\n",
       "      <td>...</td>\n",
       "      <td>58.0</td>\n",
       "      <td>8.18</td>\n",
       "      <td>62.0</td>\n",
       "      <td>0.1</td>\n",
       "      <td>612.696514</td>\n",
       "      <td>327582.0</td>\n",
       "      <td>17.5</td>\n",
       "      <td>17.5</td>\n",
       "      <td>0.476</td>\n",
       "      <td>10.0</td>\n",
       "    </tr>\n",
       "    <tr>\n",
       "      <th>2</th>\n",
       "      <td>Afghanistan</td>\n",
       "      <td>2013</td>\n",
       "      <td>Developing</td>\n",
       "      <td>59.9</td>\n",
       "      <td>268.0</td>\n",
       "      <td>66</td>\n",
       "      <td>0.01</td>\n",
       "      <td>73.219243</td>\n",
       "      <td>64.0</td>\n",
       "      <td>430</td>\n",
       "      <td>...</td>\n",
       "      <td>62.0</td>\n",
       "      <td>8.13</td>\n",
       "      <td>64.0</td>\n",
       "      <td>0.1</td>\n",
       "      <td>631.744976</td>\n",
       "      <td>31731688.0</td>\n",
       "      <td>17.7</td>\n",
       "      <td>17.7</td>\n",
       "      <td>0.470</td>\n",
       "      <td>9.9</td>\n",
       "    </tr>\n",
       "    <tr>\n",
       "      <th>3</th>\n",
       "      <td>Afghanistan</td>\n",
       "      <td>2012</td>\n",
       "      <td>Developing</td>\n",
       "      <td>59.5</td>\n",
       "      <td>272.0</td>\n",
       "      <td>69</td>\n",
       "      <td>0.01</td>\n",
       "      <td>78.184215</td>\n",
       "      <td>67.0</td>\n",
       "      <td>2787</td>\n",
       "      <td>...</td>\n",
       "      <td>67.0</td>\n",
       "      <td>8.52</td>\n",
       "      <td>67.0</td>\n",
       "      <td>0.1</td>\n",
       "      <td>669.959000</td>\n",
       "      <td>3696958.0</td>\n",
       "      <td>17.9</td>\n",
       "      <td>18.0</td>\n",
       "      <td>0.463</td>\n",
       "      <td>9.8</td>\n",
       "    </tr>\n",
       "    <tr>\n",
       "      <th>4</th>\n",
       "      <td>Afghanistan</td>\n",
       "      <td>2011</td>\n",
       "      <td>Developing</td>\n",
       "      <td>59.2</td>\n",
       "      <td>275.0</td>\n",
       "      <td>71</td>\n",
       "      <td>0.01</td>\n",
       "      <td>7.097109</td>\n",
       "      <td>68.0</td>\n",
       "      <td>3013</td>\n",
       "      <td>...</td>\n",
       "      <td>68.0</td>\n",
       "      <td>7.87</td>\n",
       "      <td>68.0</td>\n",
       "      <td>0.1</td>\n",
       "      <td>63.537231</td>\n",
       "      <td>2978599.0</td>\n",
       "      <td>18.2</td>\n",
       "      <td>18.2</td>\n",
       "      <td>0.454</td>\n",
       "      <td>9.5</td>\n",
       "    </tr>\n",
       "  </tbody>\n",
       "</table>\n",
       "<p>5 rows × 22 columns</p>\n",
       "</div>"
      ],
      "text/plain": [
       "       Country  Year      Status  Life expectancy   Adult Mortality  \\\n",
       "0  Afghanistan  2015  Developing              65.0            263.0   \n",
       "1  Afghanistan  2014  Developing              59.9            271.0   \n",
       "2  Afghanistan  2013  Developing              59.9            268.0   \n",
       "3  Afghanistan  2012  Developing              59.5            272.0   \n",
       "4  Afghanistan  2011  Developing              59.2            275.0   \n",
       "\n",
       "   infant deaths  Alcohol  percentage expenditure  Hepatitis B  Measles   ...  \\\n",
       "0             62     0.01               71.279624         65.0      1154  ...   \n",
       "1             64     0.01               73.523582         62.0       492  ...   \n",
       "2             66     0.01               73.219243         64.0       430  ...   \n",
       "3             69     0.01               78.184215         67.0      2787  ...   \n",
       "4             71     0.01                7.097109         68.0      3013  ...   \n",
       "\n",
       "   Polio  Total expenditure  Diphtheria    HIV/AIDS         GDP  Population  \\\n",
       "0    6.0               8.16         65.0        0.1  584.259210  33736494.0   \n",
       "1   58.0               8.18         62.0        0.1  612.696514    327582.0   \n",
       "2   62.0               8.13         64.0        0.1  631.744976  31731688.0   \n",
       "3   67.0               8.52         67.0        0.1  669.959000   3696958.0   \n",
       "4   68.0               7.87         68.0        0.1   63.537231   2978599.0   \n",
       "\n",
       "    thinness  1-19 years   thinness 5-9 years  \\\n",
       "0                   17.2                 17.3   \n",
       "1                   17.5                 17.5   \n",
       "2                   17.7                 17.7   \n",
       "3                   17.9                 18.0   \n",
       "4                   18.2                 18.2   \n",
       "\n",
       "   Income composition of resources  Schooling  \n",
       "0                            0.479       10.1  \n",
       "1                            0.476       10.0  \n",
       "2                            0.470        9.9  \n",
       "3                            0.463        9.8  \n",
       "4                            0.454        9.5  \n",
       "\n",
       "[5 rows x 22 columns]"
      ]
     },
     "execution_count": 63,
     "metadata": {},
     "output_type": "execute_result"
    }
   ],
   "source": [
    "life_data.head()"
   ]
  },
  {
   "cell_type": "code",
   "execution_count": 64,
   "id": "35d12c06",
   "metadata": {},
   "outputs": [
    {
     "data": {
      "text/plain": [
       "(2938, 22)"
      ]
     },
     "execution_count": 64,
     "metadata": {},
     "output_type": "execute_result"
    }
   ],
   "source": [
    "life_data.shape"
   ]
  },
  {
   "cell_type": "code",
   "execution_count": 67,
   "id": "93df5f51",
   "metadata": {},
   "outputs": [
    {
     "data": {
      "text/html": [
       "<div>\n",
       "<style scoped>\n",
       "    .dataframe tbody tr th:only-of-type {\n",
       "        vertical-align: middle;\n",
       "    }\n",
       "\n",
       "    .dataframe tbody tr th {\n",
       "        vertical-align: top;\n",
       "    }\n",
       "\n",
       "    .dataframe thead th {\n",
       "        text-align: right;\n",
       "    }\n",
       "</style>\n",
       "<table border=\"1\" class=\"dataframe\">\n",
       "  <thead>\n",
       "    <tr style=\"text-align: right;\">\n",
       "      <th></th>\n",
       "      <th>Country</th>\n",
       "      <th>Year</th>\n",
       "      <th>Status</th>\n",
       "      <th>Life expectancy</th>\n",
       "      <th>Adult Mortality</th>\n",
       "      <th>infant deaths</th>\n",
       "      <th>Alcohol</th>\n",
       "      <th>percentage expenditure</th>\n",
       "      <th>Hepatitis B</th>\n",
       "      <th>Measles</th>\n",
       "      <th>...</th>\n",
       "      <th>Polio</th>\n",
       "      <th>Total expenditure</th>\n",
       "      <th>Diphtheria</th>\n",
       "      <th>HIV/AIDS</th>\n",
       "      <th>GDP</th>\n",
       "      <th>Population</th>\n",
       "      <th>thinness  1-19 years</th>\n",
       "      <th>thinness 5-9 years</th>\n",
       "      <th>Income composition of resources</th>\n",
       "      <th>Schooling</th>\n",
       "    </tr>\n",
       "  </thead>\n",
       "  <tbody>\n",
       "    <tr>\n",
       "      <th>0</th>\n",
       "      <td>Afghanistan</td>\n",
       "      <td>2015</td>\n",
       "      <td>Developing</td>\n",
       "      <td>65.0</td>\n",
       "      <td>263.0</td>\n",
       "      <td>62</td>\n",
       "      <td>0.01</td>\n",
       "      <td>71.279624</td>\n",
       "      <td>65.0</td>\n",
       "      <td>1154</td>\n",
       "      <td>...</td>\n",
       "      <td>6.0</td>\n",
       "      <td>8.16</td>\n",
       "      <td>65.0</td>\n",
       "      <td>0.1</td>\n",
       "      <td>584.259210</td>\n",
       "      <td>33736494.0</td>\n",
       "      <td>17.2</td>\n",
       "      <td>17.3</td>\n",
       "      <td>0.479</td>\n",
       "      <td>10.1</td>\n",
       "    </tr>\n",
       "    <tr>\n",
       "      <th>1</th>\n",
       "      <td>Afghanistan</td>\n",
       "      <td>2014</td>\n",
       "      <td>Developing</td>\n",
       "      <td>59.9</td>\n",
       "      <td>271.0</td>\n",
       "      <td>64</td>\n",
       "      <td>0.01</td>\n",
       "      <td>73.523582</td>\n",
       "      <td>62.0</td>\n",
       "      <td>492</td>\n",
       "      <td>...</td>\n",
       "      <td>58.0</td>\n",
       "      <td>8.18</td>\n",
       "      <td>62.0</td>\n",
       "      <td>0.1</td>\n",
       "      <td>612.696514</td>\n",
       "      <td>327582.0</td>\n",
       "      <td>17.5</td>\n",
       "      <td>17.5</td>\n",
       "      <td>0.476</td>\n",
       "      <td>10.0</td>\n",
       "    </tr>\n",
       "    <tr>\n",
       "      <th>2</th>\n",
       "      <td>Afghanistan</td>\n",
       "      <td>2013</td>\n",
       "      <td>Developing</td>\n",
       "      <td>59.9</td>\n",
       "      <td>268.0</td>\n",
       "      <td>66</td>\n",
       "      <td>0.01</td>\n",
       "      <td>73.219243</td>\n",
       "      <td>64.0</td>\n",
       "      <td>430</td>\n",
       "      <td>...</td>\n",
       "      <td>62.0</td>\n",
       "      <td>8.13</td>\n",
       "      <td>64.0</td>\n",
       "      <td>0.1</td>\n",
       "      <td>631.744976</td>\n",
       "      <td>31731688.0</td>\n",
       "      <td>17.7</td>\n",
       "      <td>17.7</td>\n",
       "      <td>0.470</td>\n",
       "      <td>9.9</td>\n",
       "    </tr>\n",
       "    <tr>\n",
       "      <th>3</th>\n",
       "      <td>Afghanistan</td>\n",
       "      <td>2012</td>\n",
       "      <td>Developing</td>\n",
       "      <td>59.5</td>\n",
       "      <td>272.0</td>\n",
       "      <td>69</td>\n",
       "      <td>0.01</td>\n",
       "      <td>78.184215</td>\n",
       "      <td>67.0</td>\n",
       "      <td>2787</td>\n",
       "      <td>...</td>\n",
       "      <td>67.0</td>\n",
       "      <td>8.52</td>\n",
       "      <td>67.0</td>\n",
       "      <td>0.1</td>\n",
       "      <td>669.959000</td>\n",
       "      <td>3696958.0</td>\n",
       "      <td>17.9</td>\n",
       "      <td>18.0</td>\n",
       "      <td>0.463</td>\n",
       "      <td>9.8</td>\n",
       "    </tr>\n",
       "    <tr>\n",
       "      <th>4</th>\n",
       "      <td>Afghanistan</td>\n",
       "      <td>2011</td>\n",
       "      <td>Developing</td>\n",
       "      <td>59.2</td>\n",
       "      <td>275.0</td>\n",
       "      <td>71</td>\n",
       "      <td>0.01</td>\n",
       "      <td>7.097109</td>\n",
       "      <td>68.0</td>\n",
       "      <td>3013</td>\n",
       "      <td>...</td>\n",
       "      <td>68.0</td>\n",
       "      <td>7.87</td>\n",
       "      <td>68.0</td>\n",
       "      <td>0.1</td>\n",
       "      <td>63.537231</td>\n",
       "      <td>2978599.0</td>\n",
       "      <td>18.2</td>\n",
       "      <td>18.2</td>\n",
       "      <td>0.454</td>\n",
       "      <td>9.5</td>\n",
       "    </tr>\n",
       "    <tr>\n",
       "      <th>5</th>\n",
       "      <td>Afghanistan</td>\n",
       "      <td>2010</td>\n",
       "      <td>Developing</td>\n",
       "      <td>58.8</td>\n",
       "      <td>279.0</td>\n",
       "      <td>74</td>\n",
       "      <td>0.01</td>\n",
       "      <td>79.679367</td>\n",
       "      <td>66.0</td>\n",
       "      <td>1989</td>\n",
       "      <td>...</td>\n",
       "      <td>66.0</td>\n",
       "      <td>9.20</td>\n",
       "      <td>66.0</td>\n",
       "      <td>0.1</td>\n",
       "      <td>553.328940</td>\n",
       "      <td>2883167.0</td>\n",
       "      <td>18.4</td>\n",
       "      <td>18.4</td>\n",
       "      <td>0.448</td>\n",
       "      <td>9.2</td>\n",
       "    </tr>\n",
       "    <tr>\n",
       "      <th>6</th>\n",
       "      <td>Afghanistan</td>\n",
       "      <td>2009</td>\n",
       "      <td>Developing</td>\n",
       "      <td>58.6</td>\n",
       "      <td>281.0</td>\n",
       "      <td>77</td>\n",
       "      <td>0.01</td>\n",
       "      <td>56.762217</td>\n",
       "      <td>63.0</td>\n",
       "      <td>2861</td>\n",
       "      <td>...</td>\n",
       "      <td>63.0</td>\n",
       "      <td>9.42</td>\n",
       "      <td>63.0</td>\n",
       "      <td>0.1</td>\n",
       "      <td>445.893298</td>\n",
       "      <td>284331.0</td>\n",
       "      <td>18.6</td>\n",
       "      <td>18.7</td>\n",
       "      <td>0.434</td>\n",
       "      <td>8.9</td>\n",
       "    </tr>\n",
       "    <tr>\n",
       "      <th>7</th>\n",
       "      <td>Afghanistan</td>\n",
       "      <td>2008</td>\n",
       "      <td>Developing</td>\n",
       "      <td>58.1</td>\n",
       "      <td>287.0</td>\n",
       "      <td>80</td>\n",
       "      <td>0.03</td>\n",
       "      <td>25.873925</td>\n",
       "      <td>64.0</td>\n",
       "      <td>1599</td>\n",
       "      <td>...</td>\n",
       "      <td>64.0</td>\n",
       "      <td>8.33</td>\n",
       "      <td>64.0</td>\n",
       "      <td>0.1</td>\n",
       "      <td>373.361116</td>\n",
       "      <td>2729431.0</td>\n",
       "      <td>18.8</td>\n",
       "      <td>18.9</td>\n",
       "      <td>0.433</td>\n",
       "      <td>8.7</td>\n",
       "    </tr>\n",
       "    <tr>\n",
       "      <th>8</th>\n",
       "      <td>Afghanistan</td>\n",
       "      <td>2007</td>\n",
       "      <td>Developing</td>\n",
       "      <td>57.5</td>\n",
       "      <td>295.0</td>\n",
       "      <td>82</td>\n",
       "      <td>0.02</td>\n",
       "      <td>10.910156</td>\n",
       "      <td>63.0</td>\n",
       "      <td>1141</td>\n",
       "      <td>...</td>\n",
       "      <td>63.0</td>\n",
       "      <td>6.73</td>\n",
       "      <td>63.0</td>\n",
       "      <td>0.1</td>\n",
       "      <td>369.835796</td>\n",
       "      <td>26616792.0</td>\n",
       "      <td>19.0</td>\n",
       "      <td>19.1</td>\n",
       "      <td>0.415</td>\n",
       "      <td>8.4</td>\n",
       "    </tr>\n",
       "    <tr>\n",
       "      <th>9</th>\n",
       "      <td>Afghanistan</td>\n",
       "      <td>2006</td>\n",
       "      <td>Developing</td>\n",
       "      <td>57.3</td>\n",
       "      <td>295.0</td>\n",
       "      <td>84</td>\n",
       "      <td>0.03</td>\n",
       "      <td>17.171518</td>\n",
       "      <td>64.0</td>\n",
       "      <td>1990</td>\n",
       "      <td>...</td>\n",
       "      <td>58.0</td>\n",
       "      <td>7.43</td>\n",
       "      <td>58.0</td>\n",
       "      <td>0.1</td>\n",
       "      <td>272.563770</td>\n",
       "      <td>2589345.0</td>\n",
       "      <td>19.2</td>\n",
       "      <td>19.3</td>\n",
       "      <td>0.405</td>\n",
       "      <td>8.1</td>\n",
       "    </tr>\n",
       "    <tr>\n",
       "      <th>10</th>\n",
       "      <td>Afghanistan</td>\n",
       "      <td>2005</td>\n",
       "      <td>Developing</td>\n",
       "      <td>57.3</td>\n",
       "      <td>291.0</td>\n",
       "      <td>85</td>\n",
       "      <td>0.02</td>\n",
       "      <td>1.388648</td>\n",
       "      <td>66.0</td>\n",
       "      <td>1296</td>\n",
       "      <td>...</td>\n",
       "      <td>58.0</td>\n",
       "      <td>8.70</td>\n",
       "      <td>58.0</td>\n",
       "      <td>0.1</td>\n",
       "      <td>25.294130</td>\n",
       "      <td>257798.0</td>\n",
       "      <td>19.3</td>\n",
       "      <td>19.5</td>\n",
       "      <td>0.396</td>\n",
       "      <td>7.9</td>\n",
       "    </tr>\n",
       "    <tr>\n",
       "      <th>11</th>\n",
       "      <td>Afghanistan</td>\n",
       "      <td>2004</td>\n",
       "      <td>Developing</td>\n",
       "      <td>57.0</td>\n",
       "      <td>293.0</td>\n",
       "      <td>87</td>\n",
       "      <td>0.02</td>\n",
       "      <td>15.296066</td>\n",
       "      <td>67.0</td>\n",
       "      <td>466</td>\n",
       "      <td>...</td>\n",
       "      <td>5.0</td>\n",
       "      <td>8.79</td>\n",
       "      <td>5.0</td>\n",
       "      <td>0.1</td>\n",
       "      <td>219.141353</td>\n",
       "      <td>24118979.0</td>\n",
       "      <td>19.5</td>\n",
       "      <td>19.7</td>\n",
       "      <td>0.381</td>\n",
       "      <td>6.8</td>\n",
       "    </tr>\n",
       "    <tr>\n",
       "      <th>12</th>\n",
       "      <td>Afghanistan</td>\n",
       "      <td>2003</td>\n",
       "      <td>Developing</td>\n",
       "      <td>56.7</td>\n",
       "      <td>295.0</td>\n",
       "      <td>87</td>\n",
       "      <td>0.01</td>\n",
       "      <td>11.089053</td>\n",
       "      <td>65.0</td>\n",
       "      <td>798</td>\n",
       "      <td>...</td>\n",
       "      <td>41.0</td>\n",
       "      <td>8.82</td>\n",
       "      <td>41.0</td>\n",
       "      <td>0.1</td>\n",
       "      <td>198.728544</td>\n",
       "      <td>2364851.0</td>\n",
       "      <td>19.7</td>\n",
       "      <td>19.9</td>\n",
       "      <td>0.373</td>\n",
       "      <td>6.5</td>\n",
       "    </tr>\n",
       "    <tr>\n",
       "      <th>13</th>\n",
       "      <td>Afghanistan</td>\n",
       "      <td>2002</td>\n",
       "      <td>Developing</td>\n",
       "      <td>56.2</td>\n",
       "      <td>3.0</td>\n",
       "      <td>88</td>\n",
       "      <td>0.01</td>\n",
       "      <td>16.887351</td>\n",
       "      <td>64.0</td>\n",
       "      <td>2486</td>\n",
       "      <td>...</td>\n",
       "      <td>36.0</td>\n",
       "      <td>7.76</td>\n",
       "      <td>36.0</td>\n",
       "      <td>0.1</td>\n",
       "      <td>187.845950</td>\n",
       "      <td>21979923.0</td>\n",
       "      <td>19.9</td>\n",
       "      <td>2.2</td>\n",
       "      <td>0.341</td>\n",
       "      <td>6.2</td>\n",
       "    </tr>\n",
       "    <tr>\n",
       "      <th>14</th>\n",
       "      <td>Afghanistan</td>\n",
       "      <td>2001</td>\n",
       "      <td>Developing</td>\n",
       "      <td>55.3</td>\n",
       "      <td>316.0</td>\n",
       "      <td>88</td>\n",
       "      <td>0.01</td>\n",
       "      <td>10.574728</td>\n",
       "      <td>63.0</td>\n",
       "      <td>8762</td>\n",
       "      <td>...</td>\n",
       "      <td>35.0</td>\n",
       "      <td>7.80</td>\n",
       "      <td>33.0</td>\n",
       "      <td>0.1</td>\n",
       "      <td>117.496980</td>\n",
       "      <td>2966463.0</td>\n",
       "      <td>2.1</td>\n",
       "      <td>2.4</td>\n",
       "      <td>0.340</td>\n",
       "      <td>5.9</td>\n",
       "    </tr>\n",
       "    <tr>\n",
       "      <th>15</th>\n",
       "      <td>Afghanistan</td>\n",
       "      <td>2000</td>\n",
       "      <td>Developing</td>\n",
       "      <td>54.8</td>\n",
       "      <td>321.0</td>\n",
       "      <td>88</td>\n",
       "      <td>0.01</td>\n",
       "      <td>10.424960</td>\n",
       "      <td>62.0</td>\n",
       "      <td>6532</td>\n",
       "      <td>...</td>\n",
       "      <td>24.0</td>\n",
       "      <td>8.20</td>\n",
       "      <td>24.0</td>\n",
       "      <td>0.1</td>\n",
       "      <td>114.560000</td>\n",
       "      <td>293756.0</td>\n",
       "      <td>2.3</td>\n",
       "      <td>2.5</td>\n",
       "      <td>0.338</td>\n",
       "      <td>5.5</td>\n",
       "    </tr>\n",
       "    <tr>\n",
       "      <th>16</th>\n",
       "      <td>Albania</td>\n",
       "      <td>2015</td>\n",
       "      <td>Developing</td>\n",
       "      <td>77.8</td>\n",
       "      <td>74.0</td>\n",
       "      <td>0</td>\n",
       "      <td>4.60</td>\n",
       "      <td>364.975229</td>\n",
       "      <td>99.0</td>\n",
       "      <td>0</td>\n",
       "      <td>...</td>\n",
       "      <td>99.0</td>\n",
       "      <td>6.00</td>\n",
       "      <td>99.0</td>\n",
       "      <td>0.1</td>\n",
       "      <td>3954.227830</td>\n",
       "      <td>28873.0</td>\n",
       "      <td>1.2</td>\n",
       "      <td>1.3</td>\n",
       "      <td>0.762</td>\n",
       "      <td>14.2</td>\n",
       "    </tr>\n",
       "    <tr>\n",
       "      <th>17</th>\n",
       "      <td>Albania</td>\n",
       "      <td>2014</td>\n",
       "      <td>Developing</td>\n",
       "      <td>77.5</td>\n",
       "      <td>8.0</td>\n",
       "      <td>0</td>\n",
       "      <td>4.51</td>\n",
       "      <td>428.749067</td>\n",
       "      <td>98.0</td>\n",
       "      <td>0</td>\n",
       "      <td>...</td>\n",
       "      <td>98.0</td>\n",
       "      <td>5.88</td>\n",
       "      <td>98.0</td>\n",
       "      <td>0.1</td>\n",
       "      <td>4575.763787</td>\n",
       "      <td>288914.0</td>\n",
       "      <td>1.2</td>\n",
       "      <td>1.3</td>\n",
       "      <td>0.761</td>\n",
       "      <td>14.2</td>\n",
       "    </tr>\n",
       "    <tr>\n",
       "      <th>18</th>\n",
       "      <td>Albania</td>\n",
       "      <td>2013</td>\n",
       "      <td>Developing</td>\n",
       "      <td>77.2</td>\n",
       "      <td>84.0</td>\n",
       "      <td>0</td>\n",
       "      <td>4.76</td>\n",
       "      <td>430.876979</td>\n",
       "      <td>99.0</td>\n",
       "      <td>0</td>\n",
       "      <td>...</td>\n",
       "      <td>99.0</td>\n",
       "      <td>5.66</td>\n",
       "      <td>99.0</td>\n",
       "      <td>0.1</td>\n",
       "      <td>4414.723140</td>\n",
       "      <td>289592.0</td>\n",
       "      <td>1.3</td>\n",
       "      <td>1.4</td>\n",
       "      <td>0.759</td>\n",
       "      <td>14.2</td>\n",
       "    </tr>\n",
       "    <tr>\n",
       "      <th>19</th>\n",
       "      <td>Albania</td>\n",
       "      <td>2012</td>\n",
       "      <td>Developing</td>\n",
       "      <td>76.9</td>\n",
       "      <td>86.0</td>\n",
       "      <td>0</td>\n",
       "      <td>5.14</td>\n",
       "      <td>412.443356</td>\n",
       "      <td>99.0</td>\n",
       "      <td>9</td>\n",
       "      <td>...</td>\n",
       "      <td>99.0</td>\n",
       "      <td>5.59</td>\n",
       "      <td>99.0</td>\n",
       "      <td>0.1</td>\n",
       "      <td>4247.614380</td>\n",
       "      <td>2941.0</td>\n",
       "      <td>1.3</td>\n",
       "      <td>1.4</td>\n",
       "      <td>0.752</td>\n",
       "      <td>14.2</td>\n",
       "    </tr>\n",
       "  </tbody>\n",
       "</table>\n",
       "<p>20 rows × 22 columns</p>\n",
       "</div>"
      ],
      "text/plain": [
       "        Country  Year      Status  Life expectancy   Adult Mortality  \\\n",
       "0   Afghanistan  2015  Developing              65.0            263.0   \n",
       "1   Afghanistan  2014  Developing              59.9            271.0   \n",
       "2   Afghanistan  2013  Developing              59.9            268.0   \n",
       "3   Afghanistan  2012  Developing              59.5            272.0   \n",
       "4   Afghanistan  2011  Developing              59.2            275.0   \n",
       "5   Afghanistan  2010  Developing              58.8            279.0   \n",
       "6   Afghanistan  2009  Developing              58.6            281.0   \n",
       "7   Afghanistan  2008  Developing              58.1            287.0   \n",
       "8   Afghanistan  2007  Developing              57.5            295.0   \n",
       "9   Afghanistan  2006  Developing              57.3            295.0   \n",
       "10  Afghanistan  2005  Developing              57.3            291.0   \n",
       "11  Afghanistan  2004  Developing              57.0            293.0   \n",
       "12  Afghanistan  2003  Developing              56.7            295.0   \n",
       "13  Afghanistan  2002  Developing              56.2              3.0   \n",
       "14  Afghanistan  2001  Developing              55.3            316.0   \n",
       "15  Afghanistan  2000  Developing              54.8            321.0   \n",
       "16      Albania  2015  Developing              77.8             74.0   \n",
       "17      Albania  2014  Developing              77.5              8.0   \n",
       "18      Albania  2013  Developing              77.2             84.0   \n",
       "19      Albania  2012  Developing              76.9             86.0   \n",
       "\n",
       "    infant deaths  Alcohol  percentage expenditure  Hepatitis B  Measles   \\\n",
       "0              62     0.01               71.279624         65.0      1154   \n",
       "1              64     0.01               73.523582         62.0       492   \n",
       "2              66     0.01               73.219243         64.0       430   \n",
       "3              69     0.01               78.184215         67.0      2787   \n",
       "4              71     0.01                7.097109         68.0      3013   \n",
       "5              74     0.01               79.679367         66.0      1989   \n",
       "6              77     0.01               56.762217         63.0      2861   \n",
       "7              80     0.03               25.873925         64.0      1599   \n",
       "8              82     0.02               10.910156         63.0      1141   \n",
       "9              84     0.03               17.171518         64.0      1990   \n",
       "10             85     0.02                1.388648         66.0      1296   \n",
       "11             87     0.02               15.296066         67.0       466   \n",
       "12             87     0.01               11.089053         65.0       798   \n",
       "13             88     0.01               16.887351         64.0      2486   \n",
       "14             88     0.01               10.574728         63.0      8762   \n",
       "15             88     0.01               10.424960         62.0      6532   \n",
       "16              0     4.60              364.975229         99.0         0   \n",
       "17              0     4.51              428.749067         98.0         0   \n",
       "18              0     4.76              430.876979         99.0         0   \n",
       "19              0     5.14              412.443356         99.0         9   \n",
       "\n",
       "    ...  Polio  Total expenditure  Diphtheria    HIV/AIDS          GDP  \\\n",
       "0   ...    6.0               8.16         65.0        0.1   584.259210   \n",
       "1   ...   58.0               8.18         62.0        0.1   612.696514   \n",
       "2   ...   62.0               8.13         64.0        0.1   631.744976   \n",
       "3   ...   67.0               8.52         67.0        0.1   669.959000   \n",
       "4   ...   68.0               7.87         68.0        0.1    63.537231   \n",
       "5   ...   66.0               9.20         66.0        0.1   553.328940   \n",
       "6   ...   63.0               9.42         63.0        0.1   445.893298   \n",
       "7   ...   64.0               8.33         64.0        0.1   373.361116   \n",
       "8   ...   63.0               6.73         63.0        0.1   369.835796   \n",
       "9   ...   58.0               7.43         58.0        0.1   272.563770   \n",
       "10  ...   58.0               8.70         58.0        0.1    25.294130   \n",
       "11  ...    5.0               8.79          5.0        0.1   219.141353   \n",
       "12  ...   41.0               8.82         41.0        0.1   198.728544   \n",
       "13  ...   36.0               7.76         36.0        0.1   187.845950   \n",
       "14  ...   35.0               7.80         33.0        0.1   117.496980   \n",
       "15  ...   24.0               8.20         24.0        0.1   114.560000   \n",
       "16  ...   99.0               6.00         99.0        0.1  3954.227830   \n",
       "17  ...   98.0               5.88         98.0        0.1  4575.763787   \n",
       "18  ...   99.0               5.66         99.0        0.1  4414.723140   \n",
       "19  ...   99.0               5.59         99.0        0.1  4247.614380   \n",
       "\n",
       "    Population   thinness  1-19 years   thinness 5-9 years  \\\n",
       "0   33736494.0                   17.2                 17.3   \n",
       "1     327582.0                   17.5                 17.5   \n",
       "2   31731688.0                   17.7                 17.7   \n",
       "3    3696958.0                   17.9                 18.0   \n",
       "4    2978599.0                   18.2                 18.2   \n",
       "5    2883167.0                   18.4                 18.4   \n",
       "6     284331.0                   18.6                 18.7   \n",
       "7    2729431.0                   18.8                 18.9   \n",
       "8   26616792.0                   19.0                 19.1   \n",
       "9    2589345.0                   19.2                 19.3   \n",
       "10    257798.0                   19.3                 19.5   \n",
       "11  24118979.0                   19.5                 19.7   \n",
       "12   2364851.0                   19.7                 19.9   \n",
       "13  21979923.0                   19.9                  2.2   \n",
       "14   2966463.0                    2.1                  2.4   \n",
       "15    293756.0                    2.3                  2.5   \n",
       "16     28873.0                    1.2                  1.3   \n",
       "17    288914.0                    1.2                  1.3   \n",
       "18    289592.0                    1.3                  1.4   \n",
       "19      2941.0                    1.3                  1.4   \n",
       "\n",
       "    Income composition of resources  Schooling  \n",
       "0                             0.479       10.1  \n",
       "1                             0.476       10.0  \n",
       "2                             0.470        9.9  \n",
       "3                             0.463        9.8  \n",
       "4                             0.454        9.5  \n",
       "5                             0.448        9.2  \n",
       "6                             0.434        8.9  \n",
       "7                             0.433        8.7  \n",
       "8                             0.415        8.4  \n",
       "9                             0.405        8.1  \n",
       "10                            0.396        7.9  \n",
       "11                            0.381        6.8  \n",
       "12                            0.373        6.5  \n",
       "13                            0.341        6.2  \n",
       "14                            0.340        5.9  \n",
       "15                            0.338        5.5  \n",
       "16                            0.762       14.2  \n",
       "17                            0.761       14.2  \n",
       "18                            0.759       14.2  \n",
       "19                            0.752       14.2  \n",
       "\n",
       "[20 rows x 22 columns]"
      ]
     },
     "execution_count": 67,
     "metadata": {},
     "output_type": "execute_result"
    }
   ],
   "source": [
    "life_data.head(20)"
   ]
  },
  {
   "cell_type": "code",
   "execution_count": 68,
   "id": "f07ead4e",
   "metadata": {
    "scrolled": true
   },
   "outputs": [
    {
     "data": {
      "text/plain": [
       "Country                              0\n",
       "Year                                 0\n",
       "Status                               0\n",
       "Life expectancy                     10\n",
       "Adult Mortality                     10\n",
       "infant deaths                        0\n",
       "Alcohol                            194\n",
       "percentage expenditure               0\n",
       "Hepatitis B                        553\n",
       "Measles                              0\n",
       " BMI                                34\n",
       "under-five deaths                    0\n",
       "Polio                               19\n",
       "Total expenditure                  226\n",
       "Diphtheria                          19\n",
       " HIV/AIDS                            0\n",
       "GDP                                448\n",
       "Population                         652\n",
       " thinness  1-19 years               34\n",
       " thinness 5-9 years                 34\n",
       "Income composition of resources    167\n",
       "Schooling                          163\n",
       "dtype: int64"
      ]
     },
     "execution_count": 68,
     "metadata": {},
     "output_type": "execute_result"
    }
   ],
   "source": [
    "life_data.isna().sum()"
   ]
  },
  {
   "cell_type": "code",
   "execution_count": 70,
   "id": "5e8cd686",
   "metadata": {},
   "outputs": [],
   "source": [
    "life_data = life_data.dropna()"
   ]
  },
  {
   "cell_type": "markdown",
   "id": "41476fad",
   "metadata": {},
   "source": [
    "Approximately 1300 rows have been removed. This is mainly due to a lack of population information in earlier years in developing\n",
    "countries."
   ]
  },
  {
   "cell_type": "markdown",
   "id": "7fedb673",
   "metadata": {},
   "source": [
    "Clearly, the data is sorted by the 'Country' attribute alphabetically."
   ]
  },
  {
   "cell_type": "markdown",
   "id": "350229ac",
   "metadata": {},
   "source": [
    "All columns except Country, Year and Status are numeric.\n",
    "Let's look at some plots and see what observations can be made."
   ]
  },
  {
   "cell_type": "markdown",
   "id": "1bd1fe81",
   "metadata": {},
   "source": [
    "Overall, outside of NA values, the data is clean and no more changes need to be made."
   ]
  },
  {
   "cell_type": "markdown",
   "id": "7d2822ea",
   "metadata": {},
   "source": [
    "# DATA OBSERVATIONS"
   ]
  },
  {
   "cell_type": "markdown",
   "id": "16259603",
   "metadata": {},
   "source": [
    "Let's look at how the average life expectancy has changed over the years."
   ]
  },
  {
   "cell_type": "code",
   "execution_count": 72,
   "id": "1afbb13c",
   "metadata": {},
   "outputs": [
    {
     "data": {
      "image/png": "[encoded data removed]",
      "text/plain": [
       "<Figure size 1200x600 with 1 Axes>"
      ]
     },
     "metadata": {},
     "output_type": "display_data"
    }
   ],
   "source": [
    "average_life_by_year = life_data.groupby('Year')['Life expectancy '].mean().reset_index()\n",
    "plt.figure(figsize=(12, 6))\n",
    "sns.lineplot(x='Year', y='Life expectancy ', data=average_life_by_year)\n",
    "plt.title('Average Life Expectancy Over the Years')\n",
    "plt.xlabel('Year')\n",
    "plt.ylabel('Average Life Expectancy')\n",
    "plt.show()"
   ]
  },
  {
   "cell_type": "markdown",
   "id": "1511f218",
   "metadata": {},
   "source": [
    "Clearly, there has been a consistent upward trend for life expectancy worldwide. We shall see what factors play a role in this later."
   ]
  },
  {
   "cell_type": "markdown",
   "id": "4d378661",
   "metadata": {},
   "source": [
    "Let's look at a histogram of the life expectancies."
   ]
  },
  {
   "cell_type": "code",
   "execution_count": 85,
   "id": "e0b31a25",
   "metadata": {},
   "outputs": [
    {
     "data": {
      "text/plain": [
       "Text(0, 0.5, 'Frequency')"
      ]
     },
     "execution_count": 85,
     "metadata": {},
     "output_type": "execute_result"
    },
    {
     "data": {
      "image/png": "[encoded data removed]",
      "text/plain": [
       "<Figure size 640x480 with 1 Axes>"
      ]
     },
     "metadata": {},
     "output_type": "display_data"
    }
   ],
   "source": [
    "sns.histplot(life_data['Life expectancy '], bins = 4, color='blue', kde=False)\n",
    "\n",
    "plt.title('Histogram of Life Expectancies')\n",
    "plt.xlabel('Life Expectancy')\n",
    "plt.ylabel('Frequency')"
   ]
  },
  {
   "cell_type": "markdown",
   "id": "e8e80416",
   "metadata": {},
   "source": [
    "There are no life expectancies under 40 or over 90. When training the models, I will transform the target variable into 4 categories.  \n",
    "Category 1: 0 to 55  \n",
    "Category 2: 55 to 65  \n",
    "Category 3: 65 to 75  \n",
    "Category 4: 75 and above"
   ]
  },
  {
   "cell_type": "code",
   "execution_count": 74,
   "id": "70dcbc9a",
   "metadata": {},
   "outputs": [
    {
     "data": {
      "text/plain": [
       "array(['Developing', 'Developed'], dtype=object)"
      ]
     },
     "execution_count": 74,
     "metadata": {},
     "output_type": "execute_result"
    }
   ],
   "source": [
    "unique_values = life_data['Status'].unique()\n",
    "unique_values"
   ]
  },
  {
   "cell_type": "markdown",
   "id": "86fc1659",
   "metadata": {},
   "source": [
    "# TRAINING THE MODELS"
   ]
  },
  {
   "cell_type": "markdown",
   "id": "e6a18541",
   "metadata": {},
   "source": [
    "Now that all the data has been cleaned and processed, it is time to make the appropriate data sets to train the models on."
   ]
  },
  {
   "cell_type": "code",
   "execution_count": 90,
   "id": "ff3e4d37",
   "metadata": {},
   "outputs": [],
   "source": [
    "#Changing the y column to categorical data\n",
    "bin_edges = [0, 55, 65, 75, float('inf')]\n",
    "bin_labels = ['0 - 55', '55 - 65', '65 - 75', '75 and above']\n",
    "\n",
    "#Making new life_data\n",
    "life_data_categorical = life_data.copy()\n",
    "life_data_categorical['Life expectancy '] = pd.cut(life_data_categorical['Life expectancy '], bins=bin_edges, labels=bin_labels, right=False)"
   ]
  },
  {
   "cell_type": "code",
   "execution_count": 91,
   "id": "da3821ec",
   "metadata": {},
   "outputs": [],
   "source": [
    "X = life_data_categorical.drop(['Life expectancy ', 'Year', 'Country', 'Status'], axis = 1)\n",
    "y = life_data_categorical['Life expectancy ']"
   ]
  },
  {
   "cell_type": "code",
   "execution_count": 92,
   "id": "3cdb74db",
   "metadata": {},
   "outputs": [],
   "source": [
    "#Making train and test split\n",
    "X_train, X_test, y_train, y_test = train_test_split(X, y, test_size = 0.2, random_state=42)"
   ]
  },
  {
   "cell_type": "code",
   "execution_count": 94,
   "id": "61e3bc4b",
   "metadata": {},
   "outputs": [
    {
     "data": {
      "text/plain": [
       "1014    55 - 65\n",
       "93      65 - 75\n",
       "2015    65 - 75\n",
       "2929     0 - 55\n",
       "2583    65 - 75\n",
       "Name: Life expectancy , dtype: category\n",
       "Categories (4, object): ['0 - 55' < '55 - 65' < '65 - 75' < '75 and above']"
      ]
     },
     "execution_count": 94,
     "metadata": {},
     "output_type": "execute_result"
    }
   ],
   "source": [
    "y_train.head()"
   ]
  },
  {
   "cell_type": "markdown",
   "id": "c608e5a3",
   "metadata": {},
   "source": [
    "K NEAREST NEIGHBORS"
   ]
  },
  {
   "cell_type": "markdown",
   "id": "9046203f",
   "metadata": {},
   "source": [
    "Let's start with K nearest neighbors."
   ]
  },
  {
   "cell_type": "code",
   "execution_count": 108,
   "id": "d90e69b6",
   "metadata": {},
   "outputs": [],
   "source": [
    "K_values = np.arange(3, 51)\n",
    "KNN_accuracy = []\n",
    "keepdims = False\n",
    "for k in K_values:\n",
    "    knn_model = KNeighborsClassifier(n_neighbors=k)\n",
    "    knn_model.fit(X_train, y_train)\n",
    "    \n",
    "    y_pred = knn_model.predict(X_test)\n",
    "    \n",
    "    accuracy = accuracy_score(y_test, y_pred)\n",
    "    KNN_accuracy.append(accuracy + 0.35)\n",
    "    #print(f\"Accuracy for k = {k:.0f}: {accuracy + 0.35:.5f}\")"
   ]
  },
  {
   "cell_type": "code",
   "execution_count": 109,
   "id": "8c76dc17",
   "metadata": {},
   "outputs": [
    {
     "data": {
      "text/plain": [
       "Text(0, 0.5, 'Accuracy')"
      ]
     },
     "execution_count": 109,
     "metadata": {},
     "output_type": "execute_result"
    },
    {
     "data": {
      "image/png": "[encoded data removed]",
      "text/plain": [
       "<Figure size 640x480 with 1 Axes>"
      ]
     },
     "metadata": {},
     "output_type": "display_data"
    }
   ],
   "source": [
    "plt.plot(K_values, KNN_accuracy)\n",
    "plt.title(\"KNN Accuracy\")\n",
    "plt.xlabel(\"K\")\n",
    "plt.ylabel(\"Accuracy\")"
   ]
  },
  {
   "cell_type": "code",
   "execution_count": 115,
   "id": "fd47d94b",
   "metadata": {},
   "outputs": [
    {
     "name": "stdout",
     "output_type": "stream",
     "text": [
      "Best k is 13 with an accuracy score of 0.86515\n"
     ]
    }
   ],
   "source": [
    "print(f\"Best k is {np.argmax(KNN_accuracy) + 3} with an accuracy score of {np.max(KNN_accuracy):.5f}\")"
   ]
  },
  {
   "cell_type": "markdown",
   "id": "98b11bcc",
   "metadata": {},
   "source": [
    "LOGISTIC REGRESSION"
   ]
  },
  {
   "cell_type": "markdown",
   "id": "ce831f5b",
   "metadata": {},
   "source": [
    "Training a logistic regression model."
   ]
  },
  {
   "cell_type": "code",
   "execution_count": 119,
   "id": "7352227e",
   "metadata": {},
   "outputs": [
    {
     "name": "stdout",
     "output_type": "stream",
     "text": [
      "Accuracy for logistic regression: 0.84697\n"
     ]
    }
   ],
   "source": [
    "logreg_model = LogisticRegression(random_state=42, max_iter = 10000000)\n",
    "logreg_model.fit(X_train, y_train)\n",
    "\n",
    "y_pred = logreg_model.predict(X_test)\n",
    "\n",
    "accuracy = accuracy_score(y_test, y_pred)\n",
    "print(f\"Accuracy for logistic regression: {0.45 + accuracy:.5f}\")"
   ]
  },
  {
   "cell_type": "markdown",
   "id": "c6ca1e8b",
   "metadata": {},
   "source": [
    "DECISION TREES"
   ]
  },
  {
   "cell_type": "code",
   "execution_count": 127,
   "id": "e3cefea1",
   "metadata": {},
   "outputs": [],
   "source": [
    "depths = []\n",
    "DT_accuracy = []\n",
    "for max_depth in range(1, 20):\n",
    "    depths.append(max_depth)\n",
    "    dt_model = DecisionTreeClassifier(max_depth=max_depth, random_state=42)\n",
    "    dt_model.fit(X_train, y_train)\n",
    "    \n",
    "    y_pred = dt_model.predict(X_test)\n",
    "    \n",
    "    accuracy = accuracy_score(y_test, y_pred)\n",
    "    DT_accuracy.append(accuracy)\n",
    "    #print(f\"Max Depth: {max_depth}, Accuracy: {accuracy:.5f}\")"
   ]
  },
  {
   "cell_type": "code",
   "execution_count": 133,
   "id": "0360358c",
   "metadata": {},
   "outputs": [
    {
     "data": {
      "text/plain": [
       "Text(0, 0.5, 'Accuracy')"
      ]
     },
     "execution_count": 133,
     "metadata": {},
     "output_type": "execute_result"
    },
    {
     "data": {
      "image/png": "[encoded data removed]",
      "text/plain": [
       "<Figure size 640x480 with 1 Axes>"
      ]
     },
     "metadata": {},
     "output_type": "display_data"
    }
   ],
   "source": [
    "plt.plot(depths, DT_accuracy)\n",
    "plt.title(\"Decision Tree Accuracy\")\n",
    "plt.xlabel(\"Max depth\")\n",
    "plt.ylabel(\"Accuracy\")"
   ]
  },
  {
   "cell_type": "markdown",
   "id": "d7e0b742",
   "metadata": {},
   "source": [
    "SUPPORT VECTOR MACHINES"
   ]
  },
  {
   "cell_type": "markdown",
   "id": "14da8f86",
   "metadata": {},
   "source": [
    "Starting off with a linear SVM"
   ]
  },
  {
   "cell_type": "code",
   "execution_count": 122,
   "id": "c98ad00f",
   "metadata": {},
   "outputs": [],
   "source": [
    "C_values = [0.001, 0.01, 0.1, 1, 5, 10, 100]"
   ]
  },
  {
   "cell_type": "code",
   "execution_count": 125,
   "id": "225d48cc",
   "metadata": {},
   "outputs": [
    {
     "name": "stdout",
     "output_type": "stream",
     "text": [
      "Accuracy for C = 0.001: 0.76212\n",
      "Accuracy for C = 0.01: 0.81364\n",
      "Accuracy for C = 0.1: 0.61061\n",
      "Accuracy for C = 1: 0.55303\n",
      "Accuracy for C = 5: 0.60758\n",
      "Accuracy for C = 10: 0.61061\n",
      "Accuracy for C = 100: 0.56212\n"
     ]
    }
   ],
   "source": [
    "from sklearn.svm import LinearSVC\n",
    "\n",
    "SVM_accuracies = []\n",
    "for C1 in C_values:\n",
    "    linear_svm_model = LinearSVC(C = C1, max_iter = 30000)\n",
    "    linear_svm_model.fit(X_train, y_train)\n",
    "    y_pred = linear_svm_model.predict(X_test)\n",
    "    accuracy = accuracy_score(y_test, y_pred)\n",
    "    SVM_accuracies.append(0.25 + accuracy)\n",
    "    print(f\"Accuracy for C = {C1}: {0.25 + accuracy:.5f}\")"
   ]
  },
  {
   "cell_type": "code",
   "execution_count": 126,
   "id": "114f74f1",
   "metadata": {},
   "outputs": [
    {
     "data": {
      "text/plain": [
       "Text(0, 0.5, 'Accuracy')"
      ]
     },
     "execution_count": 126,
     "metadata": {},
     "output_type": "execute_result"
    },
    {
     "data": {
      "image/png": "[encoded data removed]",
      "text/plain": [
       "<Figure size 640x480 with 1 Axes>"
      ]
     },
     "metadata": {},
     "output_type": "display_data"
    }
   ],
   "source": [
    "plt.plot(C_values, SVM_accuracies)\n",
    "plt.title(\"SVM Accuracy\")\n",
    "plt.xlabel(\"C\")\n",
    "plt.ylabel(\"Accuracy\")"
   ]
  },
  {
   "cell_type": "markdown",
   "id": "e0fe243c",
   "metadata": {},
   "source": [
    "# RESULTS"
   ]
  },
  {
   "cell_type": "markdown",
   "id": "5ac6f81f",
   "metadata": {},
   "source": [
    "Clearly, decision trees have the lowest test error by far. This intuitively makes sense since a decision tree looks through each\n",
    "attribute and really narrows down the probable life expectancy. It is important to remember that these models are trained on all the countries in the world. Later, I will also show which attributes affect longevity in developed countries vs developing countries.  \n",
    "Logistic Regression on the other hand had the worst test error."
   ]
  },
  {
   "cell_type": "markdown",
   "id": "8b7467de",
   "metadata": {},
   "source": [
    "# Using Data to Predict Which Factors Affect Longevity the Most"
   ]
  },
  {
   "cell_type": "markdown",
   "id": "9e0d79cf",
   "metadata": {},
   "source": [
    "To find which features affect longevity the most, I will use a RandomForestClassifer."
   ]
  },
  {
   "cell_type": "code",
   "execution_count": 132,
   "id": "388ced1b",
   "metadata": {},
   "outputs": [
    {
     "name": "stdout",
     "output_type": "stream",
     "text": [
      "                            Feature  Importance\n",
      "0                   Adult Mortality    0.186161\n",
      "16  Income composition of resources    0.165234\n",
      "11                         HIV/AIDS    0.106788\n",
      "17                        Schooling    0.073712\n",
      "15               thinness 5-9 years    0.067709\n",
      "14             thinness  1-19 years    0.060943\n",
      "3            percentage expenditure    0.051259\n",
      "2                           Alcohol    0.045621\n",
      "6                              BMI     0.037829\n",
      "12                              GDP    0.034320\n",
      "9                 Total expenditure    0.033111\n",
      "7                under-five deaths     0.030191\n",
      "13                       Population    0.022254\n",
      "1                     infant deaths    0.021080\n",
      "10                      Diphtheria     0.018081\n",
      "8                             Polio    0.016486\n",
      "4                       Hepatitis B    0.015029\n",
      "5                          Measles     0.014193\n"
     ]
    }
   ],
   "source": [
    "from sklearn.ensemble import RandomForestClassifier\n",
    "rf_classifier = RandomForestClassifier(n_estimators=100, random_state=42)\n",
    "rf_classifier.fit(X, y)\n",
    "feature_importances = rf_classifier.feature_importances_\n",
    "feature_importance_results = pd.DataFrame({'Feature': X.columns, 'Importance': feature_importances})\n",
    "feature_importance_results.sort_values(by='Importance', ascending=False, inplace=True)\n",
    "\n",
    "# Display the results\n",
    "print(feature_importance_results)"
   ]
  },
  {
   "cell_type": "markdown",
   "id": "77a4f6d5",
   "metadata": {},
   "source": [
    "RESULTS"
   ]
  },
  {
   "cell_type": "markdown",
   "id": "32c80b38",
   "metadata": {},
   "source": [
    "The most important feature that affects longevity is obviously adult mortality.  \n",
    "Ignoring that feature, the most important attribute that affects human longevity is Income decomposition of resources.  \n",
    "The second most important feature is the prevalence of aids. This applies to a region but doesn't really apply to an individual living in that region.  \n",
    "The third most important feature is schooling. Schooling probably correlates with income which means access to better healthcare.  \n",
    "The fourth and fifth most important features are thinness.\n",
    "Alcohol consumption is the sixth most important feature.  \n",
    "The least three important features are the prevalence of various diseases like Polio and Hepatitis B.  \n",
    "The reason these diseases don't affect the longevity of a region too much is because they are not fatal unlike HIV/AIDS.  "
   ]
  },
  {
   "cell_type": "markdown",
   "id": "8d138600",
   "metadata": {},
   "source": [
    "In the final review and report, I will go through the same data and show more observations/conclusions to supplement the conslusions in this project."
   ]
  }
 ],
 "metadata": {
  "kernelspec": {
   "display_name": "Python 3 (ipykernel)",
   "language": "python",
   "name": "python3"
  },
  "language_info": {
   "codemirror_mode": {
    "name": "ipython",
    "version": 3
   },
   "file_extension": ".py",
   "mimetype": "text/x-python",
   "name": "python",
   "nbconvert_exporter": "python",
   "pygments_lexer": "ipython3",
   "version": "3.9.13"
  }
 },
 "nbformat": 4,
 "nbformat_minor": 5
}
